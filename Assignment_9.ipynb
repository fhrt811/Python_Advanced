{
 "cells": [
  {
   "cell_type": "code",
   "execution_count": null,
   "id": "b885fb65",
   "metadata": {},
   "outputs": [],
   "source": [
    "Q1:\n",
    "In Python 3.X, what are the names and functions of string object types?"
   ]
  },
  {
   "cell_type": "code",
   "execution_count": 1,
   "id": "cf263722",
   "metadata": {},
   "outputs": [
    {
     "data": {
      "text/plain": [
       "['__add__',\n",
       " '__class__',\n",
       " '__contains__',\n",
       " '__delattr__',\n",
       " '__dir__',\n",
       " '__doc__',\n",
       " '__eq__',\n",
       " '__format__',\n",
       " '__ge__',\n",
       " '__getattribute__',\n",
       " '__getitem__',\n",
       " '__getnewargs__',\n",
       " '__gt__',\n",
       " '__hash__',\n",
       " '__init__',\n",
       " '__init_subclass__',\n",
       " '__iter__',\n",
       " '__le__',\n",
       " '__len__',\n",
       " '__lt__',\n",
       " '__mod__',\n",
       " '__mul__',\n",
       " '__ne__',\n",
       " '__new__',\n",
       " '__reduce__',\n",
       " '__reduce_ex__',\n",
       " '__repr__',\n",
       " '__rmod__',\n",
       " '__rmul__',\n",
       " '__setattr__',\n",
       " '__sizeof__',\n",
       " '__str__',\n",
       " '__subclasshook__',\n",
       " 'capitalize',\n",
       " 'casefold',\n",
       " 'center',\n",
       " 'count',\n",
       " 'encode',\n",
       " 'endswith',\n",
       " 'expandtabs',\n",
       " 'find',\n",
       " 'format',\n",
       " 'format_map',\n",
       " 'index',\n",
       " 'isalnum',\n",
       " 'isalpha',\n",
       " 'isascii',\n",
       " 'isdecimal',\n",
       " 'isdigit',\n",
       " 'isidentifier',\n",
       " 'islower',\n",
       " 'isnumeric',\n",
       " 'isprintable',\n",
       " 'isspace',\n",
       " 'istitle',\n",
       " 'isupper',\n",
       " 'join',\n",
       " 'ljust',\n",
       " 'lower',\n",
       " 'lstrip',\n",
       " 'maketrans',\n",
       " 'partition',\n",
       " 'removeprefix',\n",
       " 'removesuffix',\n",
       " 'replace',\n",
       " 'rfind',\n",
       " 'rindex',\n",
       " 'rjust',\n",
       " 'rpartition',\n",
       " 'rsplit',\n",
       " 'rstrip',\n",
       " 'split',\n",
       " 'splitlines',\n",
       " 'startswith',\n",
       " 'strip',\n",
       " 'swapcase',\n",
       " 'title',\n",
       " 'translate',\n",
       " 'upper',\n",
       " 'zfill']"
      ]
     },
     "execution_count": 1,
     "metadata": {},
     "output_type": "execute_result"
    }
   ],
   "source": [
    "#Ans1:\n",
    "dir(str)"
   ]
  },
  {
   "cell_type": "code",
   "execution_count": null,
   "id": "c19a8f82",
   "metadata": {},
   "outputs": [],
   "source": [
    "The following are the names and functions of string object types in Python 3.X\n",
    "\n",
    "<stirng>.isdecimal() -> Returns True if all characters in a string are decimal.\n",
    "<string>.isalnum() -> Returns True if all characters in the string are AlphaNumeric.\n",
    "<string>.istitle() -> Returns True if first character in a string is in Uppercase.\n",
    "<string>.partition(<sub_string>) -> Splits string at first occurance of sub string and returns a tuple of 3 elements.\n",
    "<string>.rpartition(<sub_string>) -> Splits string at last occurance of sub string and returns a tuple of 3 elements.\n",
    "<string>.isidentifier() -> Returns True if give string is a valid identifier name.\n",
    "len(<string>) -> Returns the length of the given string.\n",
    "<string>.index(<sub_string>) -> Returns the lowest index of substring if substring is found in the string.\n",
    "<string>.rindex(<sub_string>) -> Returns the highest index of substring if substring is found in the string.\n",
    "max(<string>) -> Returns the highest Alphabetical Character in the string as per ASCII.\n",
    "min(<string>) -> Returns the lowest Alphabetical Character in the string as per ASCII.\n",
    "<string>.splitlines() -> Returns a list of lines in the string.\n",
    "<string>.capitalize() -> Returns the string with first character capitalized.\n",
    "<string>.upper() -> Returns the string with all characters in uppercase.\n",
    "<string>.lower() -> Returns the string with all characters in lowercase\n",
    "<string>.casefold() -> Returns the string in lowercase which can be used for caseless comparisions.\n",
    "<string>.expandtabs(no_of_spaces) -> Replaces tabs in a string with specified no of spaces default is 8\n",
    "<string>.find(<sub_string>) -> Returns lowest index of substring if substring is found in the string else returns -1.\n",
    "<string>.rfind(<sub_string>) -> Returns highest index of substring if substring is found in the string else returns -1.\n",
    "<string>.count(<char>) -> Returns the no of occurances of the char in the given string.\n",
    "<string>.split(<sep>) -> Returns list of words seperated by given sep else seperated by whitespace.\n",
    "<string>.rsplit(<sep>) -> Returns list of words seperated by given sep else seperated by whitespace scanning from end.\n",
    "<string>.lstrip() -> Returns a copy of where leading whitespaces are removed.\n",
    "<string>.rstrip() -> Returns a copy of where trailed whitespaces are removed.\n",
    "<string>.strip() -> Returns a copy of where both leading and trailing whitespaces are removed.\n",
    "<string>.swapcase() -> Swaps lowercase characters with uppercase and vice versa.\n",
    "<sep>.join(<list>) -> Concatenates a list or tuple of words with intervening occuernces of sep.\n",
    "<string>.translate(<mapping_table>) -> translates the characters using table.\n",
    "<string>.maketrans(<dict>) -> Creating a mapping translation tbale usable for <string>.translate(<mapping_table>)\n",
    "<string>.replace(<char_1>,<char_2>) -> Replace all occurances of char_1 with char_2 in string.\n",
    "<string>.encode() -> Encodes string into any encoding supported by python. Default encoding is UTF-8.\n",
    "<string>.ljust(<no_of_spaces>) -> Left-justify in a field of given width.\n",
    "<string>.rjust(<no_of_spaces>) -> Right-justify in a field of given width.\n",
    "<string>.center(<no_of_spaces>) -> Center-justify in a field of given width.\n",
    "<stirng>.zfill(<length>) -> Zfill adds zeros to the begining of string until the specified length is reached."
   ]
  },
  {
   "cell_type": "code",
   "execution_count": 2,
   "id": "a666d7ff",
   "metadata": {},
   "outputs": [
    {
     "name": "stdout",
     "output_type": "stream",
     "text": [
      "True\n",
      "True\n",
      "False\n",
      "('\"I could eat ', 'bananas', ' all day, bananas are my favorite fruit\"')\n",
      "('\"I could eat bananas all day, ', 'bananas', ' are my favorite fruit\"')\n",
      "True\n",
      "17\n",
      "1\n",
      "6\n",
      "t\n",
      "A\n",
      "['Ineuron ', ' Full Stack ', ' Data Science ', ' Course ']\n",
      "Finding nemo\n",
      "DATAPIPELINES\n",
      "mlops\n",
      "doloris jane umbridge\n",
      "Data science    Data Analyst\n",
      "1\n",
      "6\n",
      "2\n",
      "['i', 'euro', '']\n",
      "['i', 'euro', '']\n",
      "EDA \n",
      " EDA\n",
      "EDA\n",
      "eXPLORATORY dATA aNALYSIS\n",
      "Iris_flower_Dataset\n",
      "Hello Pam!\n",
      "Hello Pam!\n",
      "I2euro2\n",
      "b'Natural Language Processing'\n",
      "Nemo      \n",
      "      Nemo\n",
      "   Nemo   \n",
      "00000Hello\n"
     ]
    }
   ],
   "source": [
    "print('1234567890'.isdecimal())\n",
    "print('IneuronFullStackDS'.isalnum())\n",
    "print('Ineuron Full Stack Data science'.istitle())\n",
    "print('\"I could eat bananas all day, bananas are my favorite fruit\"'.partition('bananas'))\n",
    "print('\"I could eat bananas all day, bananas are my favorite fruit\"'.rpartition('bananas'))\n",
    "print('GeeksForFreaks'.isidentifier())\n",
    "print(len('Linear Regression'))\n",
    "print('Ineuron'.index('n'))\n",
    "print('Ineuron'.rindex('n'))\n",
    "print(max('Data_Scientist'))\n",
    "print(min('Data_Analyst'))\n",
    "print('Ineuron \\n Full Stack \\n Data Science \\n Course '.splitlines())\n",
    "print('finding nemo'.capitalize())\n",
    "print('datapipelines'.upper())\n",
    "print('MLOPS'.lower())\n",
    "print('Doloris Jane Umbridge'.casefold())\n",
    "print('Data science\\tData Analyst'.expandtabs(8))\n",
    "print('Ineuron'.find('n'))\n",
    "print('Ineuron'.rfind('n'))\n",
    "print('Transformers'.count('s'))\n",
    "print('ineuron'.split('n'))\n",
    "print('ineuron'.rsplit('n'))\n",
    "print(' EDA '.lstrip())\n",
    "print(' EDA '.rstrip())\n",
    "print(' EDA '.strip())\n",
    "print('Exploratory Data Analysis'.swapcase())\n",
    "print('_'.join(['Iris','flower','Dataset']))\n",
    "\n",
    "mydict = {83:  80}\n",
    "print(\"Hello Sam!\".translate(mydict))\n",
    "\n",
    "txt = \"Hello Sam!\"\n",
    "mytable = txt.maketrans(\"S\", \"P\")\n",
    "print(txt.translate(mytable))\n",
    "\n",
    "print('Ineuron'.replace('n','2'))\n",
    "print('Natural Language Processing'.encode())\n",
    "print('Nemo'.ljust(10))\n",
    "print('Nemo'.rjust(10))\n",
    "print('Nemo'.center(10))\n",
    "print('Hello'.zfill(10))"
   ]
  },
  {
   "cell_type": "code",
   "execution_count": null,
   "id": "d3e3d41d",
   "metadata": {},
   "outputs": [],
   "source": [
    "Q2:\n",
    "How do the string forms in Python 3.X vary in terms of operations?"
   ]
  },
  {
   "cell_type": "code",
   "execution_count": null,
   "id": "f6dcfd20",
   "metadata": {},
   "outputs": [],
   "source": [
    "Ans2:\n",
    "In Python3 default format of strings is Unicode Whereas in Pyton2 we need to explicitly mention Unicode value using u."
   ]
  },
  {
   "cell_type": "code",
   "execution_count": null,
   "id": "2d764cc2",
   "metadata": {},
   "outputs": [],
   "source": [
    "Q3:\n",
    "In Python 3.X, how do you put non-ASCII Unicode characters in a string?"
   ]
  },
  {
   "cell_type": "code",
   "execution_count": 3,
   "id": "a52b0509",
   "metadata": {},
   "outputs": [
    {
     "name": "stdout",
     "output_type": "stream",
     "text": [
      "kozuscek\n",
      "aap niice apnii bhaassaa aur inputt upkrnn cuneN aur likhnaa aarNbh kreN\n",
      "Xie Xie Ni \n",
      "arigatou. \n",
      "ulybat'sia Vladimir Putin\n"
     ]
    }
   ],
   "source": [
    "# Ans3:\n",
    "# In Python 3.x unidecode() method from unidecode library can be used to put non-ASCII Unicode Characters in a string.\n",
    "\n",
    "from unidecode import unidecode\n",
    "print(unidecode(u'ko\\u017eu\\u0161\\u010dek'))\n",
    "print(unidecode(\"आप नीचे अपनी भाषा और इनपुट उपकरण चुनें और लिखना आरंभ करें\"))\n",
    "print(unidecode(\"谢谢你\"))\n",
    "print(unidecode(\"ありがとう。\"))\n",
    "print(unidecode(\"улыбаться Владимир Путин\"))"
   ]
  },
  {
   "cell_type": "code",
   "execution_count": null,
   "id": "2cea4ecb",
   "metadata": {},
   "outputs": [],
   "source": [
    "Q4:\n",
    "In Python 3.X, what are the key differences between text-mode and binary-mode files?"
   ]
  },
  {
   "cell_type": "code",
   "execution_count": null,
   "id": "0f210c7d",
   "metadata": {},
   "outputs": [],
   "source": [
    "Ans4:\n",
    "The major difference between these two is that a text file contains textual information in the form of alphabets, digits \n",
    "and special characters or symbols. On the other hand, a binary file contains bytes or a compiled version of a text file.\n",
    "\n",
    "When a file is opened in text mode, reading its data automatically decodes its content (as per the platform default or as \n",
    "per provided encoding), and returns it as a str; writing operation takes a str, and automatically encodes it before \n",
    "transferring to the file. Text mode files also support universal end-of-line translation, and encoding specification \n",
    "arguments.\n",
    "\n",
    "When a file is opened in binary mode by adding a 'b' to the mode string argument in the open() call, reading its data does \n",
    "not decode it in any way, and simply returns its content raw and unchanged, as a bytes object; writing takes a bytes object \n",
    "and transfers it to the file unchanged. Binary-mode files also accept a bytearray object for the content to be written to \n",
    "the file."
   ]
  },
  {
   "cell_type": "code",
   "execution_count": null,
   "id": "4e9359f0",
   "metadata": {},
   "outputs": [],
   "source": [
    "Q5:\n",
    "How can you interpret a Unicode text file containing text encoded in a different encoding than your platform's default?"
   ]
  },
  {
   "cell_type": "code",
   "execution_count": null,
   "id": "77b84783",
   "metadata": {},
   "outputs": [],
   "source": [
    "Ans5:\n",
    "encode() and decode() method can be used to interpret a Unicode text file containing text encoded in a different\n",
    "encoding other than our platform's default, by default encoding parameter is UTF-8."
   ]
  },
  {
   "cell_type": "code",
   "execution_count": null,
   "id": "e6c95090",
   "metadata": {},
   "outputs": [],
   "source": [
    "Q6:\n",
    "What is the best way to make a Unicode text file in a particular encoding format?"
   ]
  },
  {
   "cell_type": "code",
   "execution_count": null,
   "id": "4fdf80ca",
   "metadata": {},
   "outputs": [],
   "source": [
    "Ans6:\n",
    "Use str.encode() and file.write() to make a Unicode text file in a particular encoding format, default encoding format is\n",
    "UTF-8.\n",
    "\n",
    "Call str.encode(encoding) with encoding set to utf8 to encode str.\n",
    "Call open(file, mode) to open a file with mode set to wb . wb writes to files in binary mode & preserves UTF-8 format.\n",
    "Call file.write(data) to write data to the file."
   ]
  },
  {
   "cell_type": "code",
   "execution_count": null,
   "id": "1b239d26",
   "metadata": {},
   "outputs": [],
   "source": [
    "Q7:\n",
    "What qualifies ASCII text as a form of Unicode text?"
   ]
  },
  {
   "cell_type": "code",
   "execution_count": null,
   "id": "2a3d7ba5",
   "metadata": {},
   "outputs": [],
   "source": [
    "Ans7:\n",
    "Unicode represents most written languages in the world. ASCII has its equivalent in Unicode. The difference between ASCII\n",
    "and Unicode is that ASCII represents lowercase letters (a-z), uppercase letters (A-Z), digits (0–9) and symbols such as\n",
    "punctuation marks while Unicode represents letters of English, Arabic, Greek etc. mathematical symbols, historical scripts,\n",
    "emoji covering a wide range of characters than ASCII."
   ]
  },
  {
   "cell_type": "code",
   "execution_count": null,
   "id": "4de7cbf0",
   "metadata": {},
   "outputs": [],
   "source": [
    "Q8:\n",
    "How much of an effect does the change in string types in Python 3.X have on your code?"
   ]
  },
  {
   "cell_type": "code",
   "execution_count": null,
   "id": "1a872c7f",
   "metadata": {},
   "outputs": [],
   "source": [
    "Ans8:\n",
    "Python 3 stores strings as Unicode by default whereas Python 2 requires you to mark a string with a u if we want to store\n",
    "it as Unicode. Unicode strings are more versatile than ASCII strings, which are the Python 3.X default, as they can store\n",
    "letters from foreign languages as well as emoji and the standard Roman letters and numerals."
   ]
  }
 ],
 "metadata": {
  "kernelspec": {
   "display_name": "Python 3 (ipykernel)",
   "language": "python",
   "name": "python3"
  },
  "language_info": {
   "codemirror_mode": {
    "name": "ipython",
    "version": 3
   },
   "file_extension": ".py",
   "mimetype": "text/x-python",
   "name": "python",
   "nbconvert_exporter": "python",
   "pygments_lexer": "ipython3",
   "version": "3.9.13"
  }
 },
 "nbformat": 4,
 "nbformat_minor": 5
}
