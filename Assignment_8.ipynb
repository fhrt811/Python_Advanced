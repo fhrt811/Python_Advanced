{
 "cells": [
  {
   "cell_type": "code",
   "execution_count": null,
   "id": "06de35d9",
   "metadata": {},
   "outputs": [],
   "source": [
    "Q1:\n",
    "What are the two latest user-defined exception constraints in Python 3.X?"
   ]
  },
  {
   "cell_type": "code",
   "execution_count": null,
   "id": "cba06d7a",
   "metadata": {},
   "outputs": [],
   "source": [
    "Ans1:\n",
    "raise and assert are the two latest user-defined exception constraints in Python 3.X."
   ]
  },
  {
   "cell_type": "code",
   "execution_count": null,
   "id": "74dd7fc8",
   "metadata": {},
   "outputs": [],
   "source": [
    "Q2:\n",
    "How are class-based exceptions that have been raised matched to handlers?"
   ]
  },
  {
   "cell_type": "code",
   "execution_count": 1,
   "id": "a7198642",
   "metadata": {},
   "outputs": [
    {
     "ename": "TooYoungException",
     "evalue": "Too Young For Voting",
     "output_type": "error",
     "traceback": [
      "\u001b[1;31m---------------------------------------------------------------------------\u001b[0m",
      "\u001b[1;31mTooYoungException\u001b[0m                         Traceback (most recent call last)",
      "\u001b[1;32m~\\AppData\\Local\\Temp\\ipykernel_1316\\3419100639.py\u001b[0m in \u001b[0;36m<module>\u001b[1;34m\u001b[0m\n\u001b[0;32m      8\u001b[0m         \u001b[0mself\u001b[0m\u001b[1;33m.\u001b[0m\u001b[0mmsg\u001b[0m \u001b[1;33m=\u001b[0m \u001b[0mmsg\u001b[0m\u001b[1;33m\u001b[0m\u001b[1;33m\u001b[0m\u001b[0m\n\u001b[0;32m      9\u001b[0m \u001b[0mage\u001b[0m \u001b[1;33m=\u001b[0m \u001b[1;36m12\u001b[0m\u001b[1;33m\u001b[0m\u001b[1;33m\u001b[0m\u001b[0m\n\u001b[1;32m---> 10\u001b[1;33m \u001b[1;32mif\u001b[0m \u001b[0mage\u001b[0m \u001b[1;33m<=\u001b[0m \u001b[1;36m18\u001b[0m\u001b[1;33m:\u001b[0m \u001b[1;32mraise\u001b[0m \u001b[0mTooYoungException\u001b[0m\u001b[1;33m(\u001b[0m\u001b[1;34m'Too Young For Voting'\u001b[0m\u001b[1;33m)\u001b[0m\u001b[1;33m\u001b[0m\u001b[1;33m\u001b[0m\u001b[0m\n\u001b[0m",
      "\u001b[1;31mTooYoungException\u001b[0m: Too Young For Voting"
     ]
    }
   ],
   "source": [
    "# Ans2:\n",
    "# In python, Users can define custom exceptions by creating a new class. This exception class has to be derived, either\n",
    "# directly or indirectly from built-in Exception class. This new exception class like other exceptions can be raised using\n",
    "# the raise statement with an optional error message.\n",
    "\n",
    "class TooYoungException(Exception):\n",
    "    def __init__(self,msg):\n",
    "        self.msg = msg\n",
    "age = 12\n",
    "if age <= 18: raise TooYoungException('Too Young For Voting')"
   ]
  },
  {
   "cell_type": "code",
   "execution_count": null,
   "id": "47fc3695",
   "metadata": {},
   "outputs": [],
   "source": [
    "Q3:\n",
    "Describe two methods for attaching context information to exception artefacts ?"
   ]
  },
  {
   "cell_type": "code",
   "execution_count": null,
   "id": "1e7f4153",
   "metadata": {},
   "outputs": [],
   "source": [
    "Ans3:\n",
    "The process() method of LoggerAdapter is where the contextual information is added to the logging output. it passes the\n",
    "message and keyword arguments of the logging call, and it passes back modified versions of these to use in the call to the\n",
    "underlying logger.\n",
    "\n",
    "Other method that can be used is exception(), Logs a messgae with level ERROR on this logger. The arguments are interpreted\n",
    "as for debug(). Exception info is added to the logging message."
   ]
  },
  {
   "cell_type": "code",
   "execution_count": null,
   "id": "1802c050",
   "metadata": {},
   "outputs": [],
   "source": [
    "Q4:\n",
    "Describe two methods for specifying the text of an exception object's error message ?"
   ]
  },
  {
   "cell_type": "raw",
   "id": "f37ad25b",
   "metadata": {},
   "source": [
    "Ans4:\n",
    "raise and assert are two methods for specifying the text of an exception object's error message.\n",
    "\n",
    "raise statement is used to trigger explicit exception, if certain condition is not as per requirement of programmer. it helps in triggering exception as per need of programmer and logic.\n",
    "\n",
    "There are few assertions that programmer always want to be True to avoid code failure. This type of requirment is\n",
    "fullfilled by assert statement. This statement takes a Boolean Condition output of which if True, further program executes.\n",
    "If output of assert statement is False it raises an Assertion Error."
   ]
  },
  {
   "cell_type": "code",
   "execution_count": null,
   "id": "431334ec",
   "metadata": {},
   "outputs": [],
   "source": [
    "Q5:\n",
    "Why do you no longer use string-based exceptions?"
   ]
  },
  {
   "cell_type": "code",
   "execution_count": null,
   "id": "697be513",
   "metadata": {},
   "outputs": [],
   "source": [
    "Ans5:\n",
    "String-based Exceptions doesn't inherit from Exceptions. so plain exceptions catch all exceptions and not only system."
   ]
  }
 ],
 "metadata": {
  "kernelspec": {
   "display_name": "Python 3 (ipykernel)",
   "language": "python",
   "name": "python3"
  },
  "language_info": {
   "codemirror_mode": {
    "name": "ipython",
    "version": 3
   },
   "file_extension": ".py",
   "mimetype": "text/x-python",
   "name": "python",
   "nbconvert_exporter": "python",
   "pygments_lexer": "ipython3",
   "version": "3.9.13"
  }
 },
 "nbformat": 4,
 "nbformat_minor": 5
}
