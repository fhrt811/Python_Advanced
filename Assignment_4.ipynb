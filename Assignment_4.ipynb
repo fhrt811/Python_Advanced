{
 "cells": [
  {
   "cell_type": "code",
   "execution_count": null,
   "id": "bbfe6bec",
   "metadata": {},
   "outputs": [],
   "source": [
    "Q1:\n",
    "Which two operator overloading methods can you use in your classes to support iteration?"
   ]
  },
  {
   "cell_type": "code",
   "execution_count": 2,
   "id": "e052b4a6",
   "metadata": {},
   "outputs": [
    {
     "name": "stdout",
     "output_type": "stream",
     "text": [
      "1 2 3 4 5 6 7 8 9 10 11 12 13 14 15 16 17 18 19 20 21 22 23 24 25 "
     ]
    }
   ],
   "source": [
    "#Ans1:\n",
    "#__iter__ and __next__ are the operator overloading methods in python that support iteration and are collectively called\n",
    "#iterator protocol.\n",
    "\n",
    "#__iter__ returns the iterator object and is called at the start of loop in our respective class.\n",
    "#__next__ is called at each loop increment, it returns the incremented value. Also Stopiteration is raised when there is no\n",
    "#value to return.\n",
    "\n",
    "class Counter:\n",
    "    def __init__(self,low,high):\n",
    "        self.current = low\n",
    "        self.high = high\n",
    "    def __iter__(self):\n",
    "        return self\n",
    "    def __next__(self):\n",
    "        if self.current > self.high:\n",
    "            raise StopIteration\n",
    "        else:\n",
    "            self.current += 1\n",
    "            return self.current - 1\n",
    "for ele in Counter(1,25):\n",
    "    print(ele, end=\" \")"
   ]
  },
  {
   "cell_type": "code",
   "execution_count": null,
   "id": "0d76fe0c",
   "metadata": {},
   "outputs": [],
   "source": [
    "Q2:\n",
    "In what contexts do the two operator overloading methods manage printing?"
   ]
  },
  {
   "cell_type": "code",
   "execution_count": 3,
   "id": "ca196385",
   "metadata": {},
   "outputs": [
    {
     "name": "stdout",
     "output_type": "stream",
     "text": [
      "<__main__.Student object at 0x000001F2F0CC0EE0>\n",
      "Student Name: Sanjeev and Roll No: 28\n",
      "2023-05-31 16:08:23.395510\n",
      "Unable to convert back to original object\n",
      "datetime.datetime(2023, 5, 31, 16, 8, 23, 395510)\n",
      "2023-05-31 16:08:23.395510\n"
     ]
    }
   ],
   "source": [
    "#Ans2:\n",
    "#__str__ and __repr__ are two operator overloading methods that manage printing.\n",
    "\n",
    "#The difference between both of these operators is: The goal of __repr__ is to be unambiguous and __str__ is to be readable.\n",
    "#Whenever we are printing any object reference internally, __str__ method will be called by default.\n",
    "#The main purpose of __str__ is for readability. It prints the informal string representation of an object, one that is \n",
    "#useful for printing the object. It may not be possible to convert result string to original object.\n",
    "#__repr__ is used to print official string representation of an object, so it includes all information and development.\n",
    "\n",
    "class Student:\n",
    "    def __init__(self,name,roll_no):\n",
    "        self.name = name\n",
    "        self.roll_no = roll_no\n",
    "        \n",
    "s1 = Student(\"Faisal\",27)\n",
    "print(str(s1))\n",
    "\n",
    "class Student:\n",
    "    def __init__(self,name,roll_no):\n",
    "        self.name = name\n",
    "        self.roll_no = roll_no\n",
    "    def __str__(self):\n",
    "        return f'Student Name: {self.name} and Roll No: {self.roll_no}'\n",
    "    \n",
    "s1 = Student(\"Sanjeev\",28)\n",
    "print(str(s1))\n",
    "\n",
    "import datetime\n",
    "today = datetime.datetime.now()\n",
    "\n",
    "s = str(today) # converting datetime object to presentable str\n",
    "print(s)\n",
    "try: d = eval(s) # converting str back to datetime object\n",
    "except: print(\"Unable to convert back to original object\")\n",
    "    \n",
    "u = repr(today) # converting datetime object to str\n",
    "print(u)\n",
    "e = eval(u) # converting str back to datetime object\n",
    "print(e)"
   ]
  },
  {
   "cell_type": "code",
   "execution_count": null,
   "id": "c9011b73",
   "metadata": {},
   "outputs": [],
   "source": [
    "Q3:\n",
    "In a class, how do you intercept slice operations?"
   ]
  },
  {
   "cell_type": "code",
   "execution_count": null,
   "id": "71acf679",
   "metadata": {},
   "outputs": [],
   "source": [
    "Ans3:\n",
    "In a class use of slice(), __getitem__ method is used for intercept slice operation. This slice method is provided with\n",
    "start integer number, stop integer number and step integer number.\n",
    "\n",
    "Example: __getitem__(slice(start,stop,step))"
   ]
  },
  {
   "cell_type": "code",
   "execution_count": null,
   "id": "2219acb7",
   "metadata": {},
   "outputs": [],
   "source": [
    "Q4. In a class, how do you capture in-place addition?"
   ]
  },
  {
   "cell_type": "code",
   "execution_count": 4,
   "id": "50f14089",
   "metadata": {},
   "outputs": [
    {
     "name": "stdout",
     "output_type": "stream",
     "text": [
      "1300\n"
     ]
    }
   ],
   "source": [
    "#Ans4:\n",
    "#a+b is normal addition. Whereas a+=b is inplace addition operation. In this in-place addition a itself will store the\n",
    "#value of addition. In a class __iadd__ method is used for this in-place operation.\n",
    "\n",
    "class Book:\n",
    "    def __init__(self,pages):\n",
    "        self.pages = pages\n",
    "    def __iadd__(self,other):\n",
    "        self.pages += other.pages\n",
    "        return self.pages\n",
    "        \n",
    "b1 = Book(600)\n",
    "b2 = Book(700)\n",
    "b1+=b2\n",
    "print(b1)"
   ]
  },
  {
   "cell_type": "code",
   "execution_count": null,
   "id": "4fc519db",
   "metadata": {},
   "outputs": [],
   "source": [
    "Q5:\n",
    "When is it appropriate to use operator overloading?"
   ]
  },
  {
   "cell_type": "code",
   "execution_count": 7,
   "id": "a98de8be",
   "metadata": {},
   "outputs": [
    {
     "name": "stdout",
     "output_type": "stream",
     "text": [
      "Total Number of Pages -> 1100\n"
     ]
    }
   ],
   "source": [
    "#Ans5:\n",
    "#Operator overloading is used when we want to use an operator other than its normal operation to have different meaning\n",
    "#according to the context required in user defined function.\n",
    "\n",
    "class Book:\n",
    "    def __init__(self,pages):\n",
    "        self.pages = pages\n",
    "    def __add__(self,other):\n",
    "        return self.pages+other.pages\n",
    "b1 = Book(500)\n",
    "b2 = Book(600)\n",
    "print(f'Total Number of Pages -> {b1+b2}')"
   ]
  }
 ],
 "metadata": {
  "kernelspec": {
   "display_name": "Python 3 (ipykernel)",
   "language": "python",
   "name": "python3"
  },
  "language_info": {
   "codemirror_mode": {
    "name": "ipython",
    "version": 3
   },
   "file_extension": ".py",
   "mimetype": "text/x-python",
   "name": "python",
   "nbconvert_exporter": "python",
   "pygments_lexer": "ipython3",
   "version": "3.9.13"
  }
 },
 "nbformat": 4,
 "nbformat_minor": 5
}
