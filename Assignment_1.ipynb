{
 "cells": [
  {
   "cell_type": "code",
   "execution_count": null,
   "id": "20966aeb",
   "metadata": {},
   "outputs": [],
   "source": [
    "Q1:\n",
    "What is the purpose of Python's OOP?"
   ]
  },
  {
   "cell_type": "code",
   "execution_count": null,
   "id": "b8b45bd2",
   "metadata": {},
   "outputs": [],
   "source": [
    "Ans1:\n",
    "Object-oriented programming is a programming pattern that provides a means of structuring programs so that\n",
    "properties and behaviors are bundled into individual objects.\n",
    "\n",
    ">In Python, object-oriented Programmings (OOPs) uses objects and classes in programming.\n",
    ">It aims to implement real-world entities like inheritance, polymorphisms, encapsulation, etc. in the programming.\n",
    ">The main concept of OOPs is to bind the data and the functions that work on that together as a single unit so that no\n",
    "other part of the code can access this data.\n",
    "Some Advantages are mentioned below:\n",
    "\n",
    ">It helps to divide our over all program into different small segments and thus making problem solving easy through the use\n",
    "of objects\n",
    ">Helps in easy maintenance and modification of existing program\n",
    ">Multiple instances of an object can be made and explored."
   ]
  },
  {
   "cell_type": "code",
   "execution_count": null,
   "id": "fea1c68a",
   "metadata": {},
   "outputs": [],
   "source": [
    "Q2:\n",
    "Where does an inheritance search look for an attribute?"
   ]
  },
  {
   "cell_type": "code",
   "execution_count": null,
   "id": "6da1a74b",
   "metadata": {},
   "outputs": [],
   "source": [
    "Ans2:\n",
    "Python searches for an attribute in an upward tree of attributes. It first searches for the attribute in its instance and\n",
    "then looks in the class it is generated from, to all super classes listed in its class\n",
    "header"
   ]
  },
  {
   "cell_type": "code",
   "execution_count": null,
   "id": "63dc9bd0",
   "metadata": {},
   "outputs": [],
   "source": [
    "Q3:\n",
    "How do you distinguish between a class object and an instance object?"
   ]
  },
  {
   "cell_type": "code",
   "execution_count": null,
   "id": "2c712fa2",
   "metadata": {},
   "outputs": [],
   "source": [
    "Ans3:\n",
    "The differences between a class object and an instance object are:\n",
    "\n",
    "Class is a template for creating objects whereas object is an instance of class\n",
    "Seperate memory is allocated for each object whenever an object is created. but for a class this does not happens.\n",
    "A Class is created once. Many objects are created using a class.\n",
    "As Classes have no allocated memory. they can't be manipulated. but objects can be manipulated."
   ]
  },
  {
   "cell_type": "code",
   "execution_count": null,
   "id": "5b1d2060",
   "metadata": {},
   "outputs": [],
   "source": [
    "Q4:\n",
    "What makes the first argument in a class’s method function special?"
   ]
  },
  {
   "cell_type": "code",
   "execution_count": null,
   "id": "c94f0a11",
   "metadata": {},
   "outputs": [],
   "source": [
    "Ans4:\n",
    "Python Classes usually have three types of methods which are:\n",
    "\n",
    "Instance Methods (object level methods)\n",
    "Class Methods (class level methods)\n",
    "Static Methods (general utility methods)\n",
    "\n",
    "self is the first argument for instance methods. which refers to the object itself\n",
    "cls is the first argument for class methods which refers to the class itself"
   ]
  },
  {
   "cell_type": "code",
   "execution_count": null,
   "id": "dd73bbda",
   "metadata": {},
   "outputs": [],
   "source": [
    "Q5:\n",
    "What is the purpose of the init method?"
   ]
  },
  {
   "cell_type": "code",
   "execution_count": null,
   "id": "b864a1e8",
   "metadata": {},
   "outputs": [],
   "source": [
    "Ans5:\n",
    "__init__ is a reseved method in python classes. It serves the role of a constructor in object oriented terminology.\n",
    "This method is called when an object is created from a class and it allows the class to initialize the attributes of the\n",
    "class"
   ]
  },
  {
   "cell_type": "code",
   "execution_count": null,
   "id": "5a85a774",
   "metadata": {},
   "outputs": [],
   "source": [
    "Q6:\n",
    "What is the process for creating a class instance?"
   ]
  },
  {
   "cell_type": "code",
   "execution_count": null,
   "id": "86fc4b52",
   "metadata": {},
   "outputs": [],
   "source": [
    "Ans6:\n",
    "To create a class instance, we need to call the class by its name and pass the arguments to the class, which its init\n",
    "method accepts.\n",
    "\n",
    "Example: my_name = my_class(\"Ratan\",\"Gaurav\") Here my_name is an instance of class my_class with attributes \"Ratan\" and\n",
    "\"Gaurav\"."
   ]
  },
  {
   "cell_type": "code",
   "execution_count": null,
   "id": "db698f91",
   "metadata": {},
   "outputs": [],
   "source": [
    "Q7:\n",
    "What is the process for creating a class?"
   ]
  },
  {
   "cell_type": "code",
   "execution_count": null,
   "id": "4b38dbef",
   "metadata": {},
   "outputs": [],
   "source": [
    "Ans7:\n",
    "class keyword is used to created a class in python. The syntax to create a class in python is class <classname>:\n",
    "\n",
    "Example: class Shape: ➞ this creates a class called Shape"
   ]
  },
  {
   "cell_type": "code",
   "execution_count": null,
   "id": "8daff553",
   "metadata": {},
   "outputs": [],
   "source": [
    "Q8:\n",
    "How would you define the superclasses of a class?"
   ]
  },
  {
   "cell_type": "code",
   "execution_count": null,
   "id": "64669eec",
   "metadata": {},
   "outputs": [],
   "source": [
    "Ans8:\n",
    "Superclass/Parent class is given as a arugment to the child class\n",
    "\n",
    "Example: class Employee(Person): Here child class Employee inherits attributes and methods/functions from Superclass/Parent\n",
    "Person"
   ]
  }
 ],
 "metadata": {
  "kernelspec": {
   "display_name": "Python 3 (ipykernel)",
   "language": "python",
   "name": "python3"
  },
  "language_info": {
   "codemirror_mode": {
    "name": "ipython",
    "version": 3
   },
   "file_extension": ".py",
   "mimetype": "text/x-python",
   "name": "python",
   "nbconvert_exporter": "python",
   "pygments_lexer": "ipython3",
   "version": "3.9.13"
  }
 },
 "nbformat": 4,
 "nbformat_minor": 5
}
