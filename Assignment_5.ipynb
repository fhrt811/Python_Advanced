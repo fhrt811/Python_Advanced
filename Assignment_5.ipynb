{
 "cells": [
  {
   "cell_type": "code",
   "execution_count": null,
   "id": "20055bce",
   "metadata": {},
   "outputs": [],
   "source": [
    "Q1:\n",
    "What is the meaning of multiple inheritance?"
   ]
  },
  {
   "cell_type": "code",
   "execution_count": null,
   "id": "6b859ed6",
   "metadata": {},
   "outputs": [],
   "source": [
    "Ans1:\n",
    "Inheritence is nothing but reusing the code of Parent class by the child class. Similary when a child class inherits its\n",
    "properties from multiple Parent classes this scenario is called Multiple Inheritence. Multiple inheritance is a feature of\n",
    "some object-oriented computer programming languages in which an object or class can inherit features from more than one\n",
    "parent object or parent class. It is distinct from single inheritance, where an object or class(called as child) may only\n",
    "inherit from one particular object or class (called as parent).\n",
    "\n",
    "class Parent_1:\n",
    "    pass\n",
    "class Parent_2:\n",
    "    pass\n",
    "class child(Parent_1,Parent_2):\n",
    "    pass"
   ]
  },
  {
   "cell_type": "code",
   "execution_count": null,
   "id": "155744ba",
   "metadata": {},
   "outputs": [],
   "source": [
    "Q2:\n",
    "What is the concept of delegation?"
   ]
  },
  {
   "cell_type": "code",
   "execution_count": null,
   "id": "573d53ce",
   "metadata": {},
   "outputs": [],
   "source": [
    "# Ans2:\n",
    "# Delegation provides a proxy object for any class that we want on top of the main class. It is like a wrapper to our class\n",
    "# so that we can access limited resources of the main class.\n",
    "\n",
    "# It wraps the object of main class into a smaller object with limited access\n",
    "\n",
    "# In simple terms, Delegation means that we can include an instance of another class as an instance variable, and forward\n",
    "# messages to the instance.\n",
    "\n",
    "class Myclass:\n",
    "    def sayHi(self):\n",
    "        print('Hi I am back')\n",
    "    def whoAmI(self):\n",
    "        print('I am the main class')\n",
    "class NewClass:\n",
    "    def __init__(self,obj):\n",
    "        self.main = obj\n",
    "    def welcome(self):\n",
    "        self.main.sayHi()\n",
    "\n",
    "m = Myclass()        \n",
    "n = NewClass(m)\n",
    "m.sayHi()\n",
    "n.main.sayHi()\n",
    "n.welcome()\n",
    "n.main.whoAmI()"
   ]
  },
  {
   "cell_type": "code",
   "execution_count": null,
   "id": "493ce556",
   "metadata": {},
   "outputs": [],
   "source": [
    "Q3:\n",
    "What is the concept of composition?"
   ]
  },
  {
   "cell_type": "code",
   "execution_count": 1,
   "id": "afbf77a5",
   "metadata": {},
   "outputs": [
    {
     "name": "stdout",
     "output_type": "stream",
     "text": [
      "Total Salary : 21600\n"
     ]
    }
   ],
   "source": [
    "# Ans3:\n",
    "# In the concept of Composition, a class refers to one or more other classes by using instances of those classes as an\n",
    "# instance variable. Irrespective of inheritence, In this approach all the parent class members are not inherited into child\n",
    "# class, but only required methods from a class are used by using class instances.\n",
    "\n",
    "class Salary:\n",
    "    def __init__(self,pay):\n",
    "        self.pay = pay\n",
    "    def get_total(self):\n",
    "        return self.pay*12\n",
    "    \n",
    "class Employee:\n",
    "    def __init__(self,pay,bonus):\n",
    "        self.pay = pay\n",
    "        self.bonus = bonus\n",
    "        self.obj_salary = Salary(self.pay)\n",
    "    def annual_salary(self):\n",
    "        return f'Total Salary : {str(self.obj_salary.get_total())}'\n",
    "\n",
    "obj_emp = Employee(1800,1500)\n",
    "print(obj_emp.annual_salary())"
   ]
  },
  {
   "cell_type": "code",
   "execution_count": null,
   "id": "0942ddf9",
   "metadata": {},
   "outputs": [],
   "source": [
    "Q4:\n",
    "What are bound methods and how do we use them?"
   ]
  },
  {
   "cell_type": "code",
   "execution_count": 2,
   "id": "98f2fe2a",
   "metadata": {},
   "outputs": [
    {
     "name": "stdout",
     "output_type": "stream",
     "text": [
      "Called method_one\n",
      "Called method_two\n",
      "Called method_two\n",
      "Called method_three\n"
     ]
    }
   ],
   "source": [
    "#Ans4:\n",
    "#If a function is an attribute of class and it is accessed via the instances, they are called bound methods. A bound method\n",
    "# is one that has self as its first argument. Since these are dependent on the instance of classes, these are also known as\n",
    "# instance methods.\n",
    "\n",
    "class Test:\n",
    "    def method_one(self): # bound method\n",
    "        print(\"Called method_one\")\n",
    "    @classmethod\n",
    "    def method_two(cls): # unbound method\n",
    "        print(\"Called method_two\")\n",
    "    @staticmethod\n",
    "    def method_three(): # static method\n",
    "        print(\"Called method_three\")\n",
    "\n",
    "test = Test()\n",
    "test.method_one() # accessing through instance object\n",
    "test.method_two() # accessing through instance object\n",
    "Test.method_two() # accessing directly through class\n",
    "Test.method_three() # accessing directly through class"
   ]
  },
  {
   "cell_type": "code",
   "execution_count": null,
   "id": "a7e62efb",
   "metadata": {},
   "outputs": [],
   "source": [
    "Q5:\n",
    "What is the purpose of pseudoprivate attributes?"
   ]
  },
  {
   "cell_type": "code",
   "execution_count": 3,
   "id": "cc711700",
   "metadata": {},
   "outputs": [],
   "source": [
    "# Ans5:\n",
    "#Pseudoprivate attributes are also useful in larger frameworks or tools, both to avoid introducing new method names that\n",
    "#might accidentally hide definitions elsewhere in the class tree and to reduce the chance of internal methods being replaced\n",
    "#by names defined lower in the tree. If a method is intended for use only within a class that may be mixed into other \n",
    "#classes, the double underscore prefix ensures that the method won't interfere with other names in the tree, especially in\n",
    "#multiple-inheritance scenarios\n",
    "\n",
    "# Pseudoprivate names also prevent subclasses from accidentally redefining the internal method's names,\n",
    "\n",
    "class Super:\n",
    "    def method(self): # A real application method\n",
    "        pass\n",
    "class Tool:\n",
    "    def _method(self): # becomes _Tool_method\n",
    "        pass\n",
    "    def other(self): # uses internal method\n",
    "        self._method()\n",
    "class Sub1(Tool,Super):\n",
    "    def actions(self):\n",
    "        self.method()\n",
    "class Sub2(Tool):\n",
    "    def __init__(self):\n",
    "        self.method = 99"
   ]
  }
 ],
 "metadata": {
  "kernelspec": {
   "display_name": "Python 3 (ipykernel)",
   "language": "python",
   "name": "python3"
  },
  "language_info": {
   "codemirror_mode": {
    "name": "ipython",
    "version": 3
   },
   "file_extension": ".py",
   "mimetype": "text/x-python",
   "name": "python",
   "nbconvert_exporter": "python",
   "pygments_lexer": "ipython3",
   "version": "3.9.13"
  }
 },
 "nbformat": 4,
 "nbformat_minor": 5
}
