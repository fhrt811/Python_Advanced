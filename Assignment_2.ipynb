{
 "cells": [
  {
   "cell_type": "code",
   "execution_count": null,
   "id": "3952bea8",
   "metadata": {},
   "outputs": [],
   "source": [
    "Q1:\n",
    "What is the relationship between classes and modules?"
   ]
  },
  {
   "cell_type": "code",
   "execution_count": null,
   "id": "30d3af46",
   "metadata": {},
   "outputs": [],
   "source": [
    "Ans1:\n",
    "A Python class is like an outline/blueprint/mold for creating a new object. An object is anything that we wish to \n",
    "manipulate or change while working through the code. Every time a class object is instantiated, which is when we declare a\n",
    "variable, a new object is initiated from scratch.\n",
    "\n",
    "Whereas in Python, Modules are simply files with the . py extension containing Python code that can be imported inside\n",
    "another Python Program. In simple terms, we can consider a module to be the same as a code library or a file that contains\n",
    "a set of functions/Classes that we want to include in your application."
   ]
  },
  {
   "cell_type": "code",
   "execution_count": null,
   "id": "bfef1fcb",
   "metadata": {},
   "outputs": [],
   "source": [
    "Q2:\n",
    "How do you make instances and classes?"
   ]
  },
  {
   "cell_type": "code",
   "execution_count": null,
   "id": "a732c8d0",
   "metadata": {},
   "outputs": [],
   "source": [
    "Ans2:\n",
    "For creating a class instance. we call a class by its name and pass the arguments which its __init__ method accepts.\n",
    "Example:\n",
    "faisal = employee('Male',25000)\n",
    "Here faisal is an instance of class 'employee' with attriubutes 'Male' and 25000.\n",
    "Whereas for creating a class, we use the Class keyword.\n",
    "class keyword is followed by classname and colon.\n",
    "\n",
    "Example: Here Employee is a class created with class keyword with arguments gender and salary.\n",
    "class Employee:\n",
    "    def __init__(self, gender,salary):\n",
    "        self.gender = gender\n",
    "        self.salary = salary"
   ]
  },
  {
   "cell_type": "code",
   "execution_count": null,
   "id": "a5f92f05",
   "metadata": {},
   "outputs": [],
   "source": [
    "Q3:\n",
    "Where and how should be class attributes created?"
   ]
  },
  {
   "cell_type": "code",
   "execution_count": null,
   "id": "bf8f31e3",
   "metadata": {},
   "outputs": [],
   "source": [
    "Ans3:\n",
    "Class attributes or Class level Attributes belong to the class itself. These attributes will be shared by all the instances\n",
    "of the class. Hence these attributes are usually created/defined in the top of class definiation outside all methods.\n",
    "\n",
    "Example: In the below code we are defining a class attribute called no_of_wheels which will be shared by all the instances\n",
    "of the class Car\n",
    "\n",
    "class Car:\n",
    "    no_of_wheels = 4; # no_of_wheels is a class attribute \n",
    "    def __init__(self,color,price,engine):\n",
    "        self.color = color\n",
    "        self.price = price\n",
    "        self.engine = engine # All these are instance attributes "
   ]
  },
  {
   "cell_type": "code",
   "execution_count": null,
   "id": "49eaac0e",
   "metadata": {},
   "outputs": [],
   "source": [
    "Q4:\n",
    "Where and how are instance attributes created?"
   ]
  },
  {
   "cell_type": "code",
   "execution_count": null,
   "id": "47a88952",
   "metadata": {},
   "outputs": [],
   "source": [
    "Ans4:\n",
    "Instances attributes are passed to the class when an object of the class is created. Unlike class attributes, instance\n",
    "attributes are not shared by all objects of the classs. Instead each object maintains its own copy of instance attributes\n",
    "at object level whereas, in case of class attributes, all instances of class refer to a single copy.\n",
    "Usually instance attributes are defined within the __init__ method of class.\n",
    "\n",
    "Example: In the below sample code we are creating a class Car with instance varaibles color, price, engine, which will be\n",
    "provided when an instance of class Car is created.\n",
    "\n",
    "class Car:\n",
    "    def __init__(self,color,price,engine):\n",
    "        self.color = color # All these are instance attributes\n",
    "        self.price = price\n",
    "        self.engine = engine\n",
    "\n",
    "nexon_ev = Car('Indigo Blue', 1400000, 'electric')\n",
    "safari = Car('Pearl White',2100000, 'petrol')\n",
    "\n",
    "nexon_ev, safari are both the instances of class Car with different instance variables."
   ]
  },
  {
   "cell_type": "code",
   "execution_count": null,
   "id": "cc5a125e",
   "metadata": {},
   "outputs": [],
   "source": [
    "Q5:\n",
    "What does the term \"self\" in a Python class mean?"
   ]
  },
  {
   "cell_type": "code",
   "execution_count": 13,
   "id": "7ae60feb",
   "metadata": {},
   "outputs": [
    {
     "name": "stdout",
     "output_type": "stream",
     "text": [
      "{'color': 'Indigo Blue', 'price': 1400000, 'engine': 'electric'}\n",
      "{'color': 'Pearl White', 'price': 2100000, 'engine': 'petrol'}\n"
     ]
    }
   ],
   "source": [
    "#Ans5:\n",
    "#self represents the instance of the class (it represents the object itself). By using the “self” keyword we can access the\n",
    "#attributes and methods of the class within the class in python. It binds the attributes with the given arguments.\n",
    "\n",
    "class Car:\n",
    "    def __init__(self,color,price,engine):\n",
    "        self.color = color #All these are instance attributes\n",
    "        self.price = price\n",
    "        self.engine = engine\n",
    "\n",
    "nexon_ev = Car('Indigo Blue', 1400000, 'electric')\n",
    "safari = Car('Pearl White',2100000, 'petrol')\n",
    "\n",
    "print(nexon_ev.__dict__)\n",
    "print(safari.__dict__)"
   ]
  },
  {
   "cell_type": "code",
   "execution_count": null,
   "id": "b2089fa5",
   "metadata": {},
   "outputs": [],
   "source": [
    "Q6:\n",
    "How does a Python class handle operator overloading?"
   ]
  },
  {
   "cell_type": "code",
   "execution_count": 14,
   "id": "fde5821e",
   "metadata": {},
   "outputs": [
    {
     "name": "stdout",
     "output_type": "stream",
     "text": [
      "The total number of pages in 2 books is 1200\n"
     ]
    }
   ],
   "source": [
    "#Ans6:\n",
    "#Python Classes handle operator overloading by using special methods called Magic methods. These special methods usually\n",
    "#begin and end with __ (double underscore)\n",
    "#Example: Magic methods for basic arithmetic operators are:\n",
    "\n",
    "# + -> __add__()\n",
    "# - -> __sub__()\n",
    "# * -> __mul__()\n",
    "# / -> __div__()\n",
    "\n",
    "class Book:\n",
    "    def __init__(self,pages):\n",
    "        self.pages = pages\n",
    "    def __add__(self,other):\n",
    "        return self.pages + other.pages\n",
    "b1 = Book(500)\n",
    "b2 = Book(700)\n",
    "print(f'The total number of pages in 2 books is {b1+b2}')"
   ]
  },
  {
   "cell_type": "code",
   "execution_count": null,
   "id": "fb663590",
   "metadata": {},
   "outputs": [],
   "source": [
    "Q7:\n",
    "When do you consider allowing operator overloading of your classes?"
   ]
  },
  {
   "cell_type": "code",
   "execution_count": 16,
   "id": "b9ab8955",
   "metadata": {},
   "outputs": [
    {
     "name": "stdout",
     "output_type": "stream",
     "text": [
      "3\n",
      "Faisal Ansari\n",
      "12\n",
      "Sudhanshu Sudhanshu Sudhanshu Sudhanshu \n"
     ]
    }
   ],
   "source": [
    "#Ans7:\n",
    "#We consider allowing operator overloading when we want to have different meaning for the same operator.\n",
    "#For example operator + is used to add two integers as well as join two strings and merge two lists.\n",
    "#It is achievable because ‘+’ operator is overloaded by int class and str class.\n",
    "\n",
    "# Python program to show use of\n",
    "# + operator for different purposes.\n",
    " \n",
    "print(1 + 2)\n",
    " \n",
    "# concatenate two strings\n",
    "print(\"Faisal\"+\" Ansari\")\n",
    " \n",
    "# Product two numbers\n",
    "print(3 * 4)\n",
    " \n",
    "# Repeat the String\n",
    "print(\"Sudhanshu \"*4)"
   ]
  },
  {
   "cell_type": "code",
   "execution_count": null,
   "id": "087dcc2f",
   "metadata": {},
   "outputs": [],
   "source": [
    "Q8:\n",
    "What is the most popular form of operator overloading?"
   ]
  },
  {
   "cell_type": "code",
   "execution_count": 17,
   "id": "d9e8d492",
   "metadata": {},
   "outputs": [
    {
     "name": "stdout",
     "output_type": "stream",
     "text": [
      "Sum -> 3\n",
      "String Concatenation -> Faisal Ansari\n"
     ]
    }
   ],
   "source": [
    "#Ans8:\n",
    "#The most popular form of operator overloading in python is by special methods called Magic methods.\n",
    "#It usually begins and ends with double underscore __<method name>__.\n",
    "\n",
    "class A:\n",
    "    def __init__(self,a):\n",
    "        self.a = a\n",
    "    def __add__(self,o):\n",
    "        return self.a+o.a\n",
    "obj1 = A(1)\n",
    "obj2 = A(2)\n",
    "obj3 = A('Faisal')\n",
    "obj4 = A(' Ansari')\n",
    "print(f'Sum -> {obj1+obj2}')\n",
    "print(f'String Concatenation -> {obj3+obj4}')"
   ]
  },
  {
   "cell_type": "code",
   "execution_count": null,
   "id": "f65ff530",
   "metadata": {},
   "outputs": [],
   "source": [
    "Q9:\n",
    "What are the two most important concepts to grasp in order to comprehend Python OOP code?"
   ]
  },
  {
   "cell_type": "code",
   "execution_count": null,
   "id": "d3b76b87",
   "metadata": {},
   "outputs": [],
   "source": [
    "Ans9:\n",
    "Classes and objects are the two most important concepts to grasp in order to comprehend python OOP code as more formally\n",
    "objects are entities that represent instances of general abstract concept called class.\n",
    "\n",
    "Along with classes and objects the important concepts to grasp are:\n",
    "\n",
    "Inheritence\n",
    "Abstraction\n",
    "Polymorphism\n",
    "Encapsulation"
   ]
  }
 ],
 "metadata": {
  "kernelspec": {
   "display_name": "Python 3 (ipykernel)",
   "language": "python",
   "name": "python3"
  },
  "language_info": {
   "codemirror_mode": {
    "name": "ipython",
    "version": 3
   },
   "file_extension": ".py",
   "mimetype": "text/x-python",
   "name": "python",
   "nbconvert_exporter": "python",
   "pygments_lexer": "ipython3",
   "version": "3.9.13"
  }
 },
 "nbformat": 4,
 "nbformat_minor": 5
}
