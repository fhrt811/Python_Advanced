{
 "cells": [
  {
   "cell_type": "code",
   "execution_count": null,
   "id": "7887d53a",
   "metadata": {},
   "outputs": [],
   "source": [
    "Q1:\n",
    "What is the concept of an abstract superclass?"
   ]
  },
  {
   "cell_type": "code",
   "execution_count": null,
   "id": "8120121d",
   "metadata": {},
   "outputs": [],
   "source": [
    "Ans1:\n",
    "An abstract class/superclass can be considered as a blueprint for other classes. It allows us to create a set of methods\n",
    "that must be created within any child classes built from the abstract class. A class which contains one or more abstract\n",
    "methods is called an abstract class Whereas an abstract method is a method that has a declaration but does not have an\n",
    "implementation."
   ]
  },
  {
   "cell_type": "code",
   "execution_count": 1,
   "id": "78691a9f",
   "metadata": {},
   "outputs": [],
   "source": [
    "from abc import ABC, abstractmethod\n",
    "class Polygon(ABC): # Abstract Class\n",
    "    @abstractmethod\n",
    "    def noofsides(self): # Abstract Method\n",
    "        pass\n",
    "class Triangle(Polygon):\n",
    "    def noofsides(self):  # overriding abstract method in child class Triangle\n",
    "        print(\"I have 3 sides\")\n",
    "class Pentagon(Polygon):\n",
    "    def noofsides(self): # overriding abstract method in child class Pentagon\n",
    "        print(\"I have 5 sides\")"
   ]
  },
  {
   "cell_type": "code",
   "execution_count": null,
   "id": "f8d121a8",
   "metadata": {},
   "outputs": [],
   "source": [
    "Q2:\n",
    "What happens when a class statement's top level contains a basic assignment statement?"
   ]
  },
  {
   "cell_type": "code",
   "execution_count": null,
   "id": "29664c29",
   "metadata": {},
   "outputs": [],
   "source": [
    "Ans2:\n",
    "When a Class statement's top level contains a basic assignment statement, it is usually treated as a class attribute or\n",
    "class level variable whereas assignment statements inside methods are treated as instance attributes or local attributes.\n",
    "\n",
    "When an instance of a class is created, a single copy of class attributes is maintained and shared to all instances of\n",
    "class whereas each instance object maintains its own copy of instance variables.\n",
    "\n",
    "class Human:\n",
    "    species = 'Homesapiens' # class attribute\n",
    "    def __init__(self,name,gender):\n",
    "        self.name = name # instance attributes\n",
    "        self.gender = gender"
   ]
  },
  {
   "cell_type": "code",
   "execution_count": null,
   "id": "467762e1",
   "metadata": {},
   "outputs": [],
   "source": [
    "Q3:\n",
    "Why does a class need to manually call a superclass's init method?"
   ]
  },
  {
   "cell_type": "code",
   "execution_count": 4,
   "id": "97ce87e9",
   "metadata": {},
   "outputs": [
    {
     "name": "stdout",
     "output_type": "stream",
     "text": [
      "{'name': 'Faisal', 'age': 35, 'salary': 35000}\n"
     ]
    }
   ],
   "source": [
    "#Ans3:\n",
    "#if a child class has __init__ method, then it will not inherit the __init__ method of the parent class. \n",
    "#In other words the __init__ method of the child class overrides the __init__ method of the parent class.\n",
    "#So, we have to manually call a parent superclass's __init__ using super() method\n",
    "\n",
    "class Human:\n",
    "    def __init__(self,name,age):\n",
    "        self.name = name\n",
    "        self.age = age       \n",
    "class Employee(Human):\n",
    "    def __init__(self,name,age,salary):\n",
    "        super().__init__(name,age)\n",
    "        self.salary = salary\n",
    "emp_1 = Employee('Faisal',35,35000)\n",
    "print(emp_1.__dict__)"
   ]
  },
  {
   "cell_type": "code",
   "execution_count": null,
   "id": "b0281339",
   "metadata": {},
   "outputs": [],
   "source": [
    "Q4:\n",
    "How can you augment, instead of completely replacing, an inherited method?"
   ]
  },
  {
   "cell_type": "code",
   "execution_count": 6,
   "id": "c97ef99e",
   "metadata": {},
   "outputs": [
    {
     "name": "stdout",
     "output_type": "stream",
     "text": [
      "{'name': 'Faisal', 'gender': 'Male', 'salary': 35000}\n"
     ]
    }
   ],
   "source": [
    "#Ans4:\n",
    "#super() method can be used to augment, instead of completely replacing, an inherited method.\n",
    "\n",
    "class Human:\n",
    "    def __init__(self,name,gender):\n",
    "        self.name = name\n",
    "        self.gender = gender\n",
    "class Employee(Human):\n",
    "    def __init__(self,name,gender,salary):\n",
    "        super().__init__(name,gender) \n",
    "        self.salary = salary\n",
    "emp_1 = Employee('Faisal','Male',35000)\n",
    "print(emp_1.__dict__)  "
   ]
  },
  {
   "cell_type": "code",
   "execution_count": null,
   "id": "77d26fca",
   "metadata": {},
   "outputs": [],
   "source": [
    "Q5:\n",
    "How is the local scope of a class different from that of a function?"
   ]
  },
  {
   "cell_type": "code",
   "execution_count": 8,
   "id": "dd7f766c",
   "metadata": {},
   "outputs": [
    {
     "name": "stdout",
     "output_type": "stream",
     "text": [
      "you're name is Faisal Ansari\n",
      "Name varible is not available outside hello function scope\n",
      "HomoSapiens\n",
      "HomoSapiens\n"
     ]
    }
   ],
   "source": [
    "#Ans5:\n",
    "#A Variable which is defined inside a function is local to that function. It is accesible from the point at which it is\n",
    "#defined until the end of the function, and exists for as long as the function is existing.\n",
    "\n",
    "#Similary, a variable inside of a class also has a local variable scope. Variables which are defined in the class body \n",
    "#(but outside all methods) are called as class level variables or class attributes. They can be referenced by their bare\n",
    "#names within the same scope, but they can also be accessed from outside this scope if we use the attribute access operator \n",
    "#(.) on a class or an instance of the class.\n",
    "\n",
    "\n",
    "def hello(name):\n",
    "    name = name\n",
    "    print(f'you\\'re name is {name}')\n",
    "hello('Faisal Ansari')\n",
    "try:\n",
    "    name\n",
    "except NameError:\n",
    "    print('Name varible is not available outside hello function scope')\n",
    "\n",
    "class Person:\n",
    "    species = \"HomoSapiens\"\n",
    "    def __init__(self):\n",
    "        pass\n",
    "print(Person.species) # Accessing species using class name\n",
    "Male = Person()\n",
    "print(Male.species) # Accessing species using instance of class"
   ]
  },
  {
   "cell_type": "code",
   "execution_count": null,
   "id": "68cde074",
   "metadata": {},
   "outputs": [],
   "source": []
  }
 ],
 "metadata": {
  "kernelspec": {
   "display_name": "Python 3 (ipykernel)",
   "language": "python",
   "name": "python3"
  },
  "language_info": {
   "codemirror_mode": {
    "name": "ipython",
    "version": 3
   },
   "file_extension": ".py",
   "mimetype": "text/x-python",
   "name": "python",
   "nbconvert_exporter": "python",
   "pygments_lexer": "ipython3",
   "version": "3.9.13"
  }
 },
 "nbformat": 4,
 "nbformat_minor": 5
}
