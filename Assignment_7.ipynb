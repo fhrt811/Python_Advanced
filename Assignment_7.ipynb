{
 "cells": [
  {
   "cell_type": "code",
   "execution_count": null,
   "id": "01db4396",
   "metadata": {},
   "outputs": [],
   "source": [
    "Q1:\n",
    "What is the purpose of the try statement?"
   ]
  },
  {
   "cell_type": "code",
   "execution_count": null,
   "id": "187f5778",
   "metadata": {},
   "outputs": [],
   "source": [
    "Ans1:\n",
    "try statement is used for exception handling in python. It consists of a block of risky statements which might cause an\n",
    "exception during runtime. If code within try block raises exception, then the exception will be reverted to the\n",
    "corresponding except block when multiple except blocks are present, else it will be reverted to the default except block.\n",
    "In short, try and except in union avoid programs from crashing during runtime due to exceptions."
   ]
  },
  {
   "cell_type": "code",
   "execution_count": null,
   "id": "78c2e3c7",
   "metadata": {},
   "outputs": [],
   "source": [
    "Q2:\n",
    "What are the two most popular try statement variations?"
   ]
  },
  {
   "cell_type": "code",
   "execution_count": null,
   "id": "ff05d471",
   "metadata": {},
   "outputs": [],
   "source": [
    "Ans2:\n",
    "The Popular try statement variations are:\n",
    "\n",
    "try,except\n",
    "try,except,finally\n",
    "try,except,finally,else\n",
    "The try block is used to check code for exceptions during runtime. i.e. code inside try block will execute completely when\n",
    "there is no error in the program where as the code inside except block will execute whenever the program encounters some\n",
    "error in the preceeding try block.\n",
    "\n",
    "Where as the code enters the else block if and only if the try clause does not raise an exception.\n",
    "The code in the finally block will execute irrespective of exception."
   ]
  },
  {
   "cell_type": "code",
   "execution_count": null,
   "id": "c0603926",
   "metadata": {},
   "outputs": [],
   "source": [
    "Q3:\n",
    "What is the purpose of the raise statement?"
   ]
  },
  {
   "cell_type": "code",
   "execution_count": null,
   "id": "71104da4",
   "metadata": {},
   "outputs": [],
   "source": [
    "Ans3:\n",
    "raise statement is used to trigger an exception explicitly, if a certain condition is not as per requirement of programmer.\n",
    "raise statement helps in triggering exception as per programming logic."
   ]
  },
  {
   "cell_type": "code",
   "execution_count": null,
   "id": "c68761c8",
   "metadata": {},
   "outputs": [],
   "source": [
    "Q4:\n",
    "What does the assert statement do, and what other statement is it like?"
   ]
  },
  {
   "cell_type": "code",
   "execution_count": 1,
   "id": "7182a5d9",
   "metadata": {},
   "outputs": [
    {
     "ename": "AssertionError",
     "evalue": "this is not a valid statement",
     "output_type": "error",
     "traceback": [
      "\u001b[1;31m---------------------------------------------------------------------------\u001b[0m",
      "\u001b[1;31mAssertionError\u001b[0m                            Traceback (most recent call last)",
      "\u001b[1;32m~\\AppData\\Local\\Temp\\ipykernel_7760\\4031993405.py\u001b[0m in \u001b[0;36m<module>\u001b[1;34m\u001b[0m\n\u001b[0;32m      4\u001b[0m \u001b[1;31m# Program Execute. If output of assert statement is False, it raises an Assertion Error.\u001b[0m\u001b[1;33m\u001b[0m\u001b[1;33m\u001b[0m\u001b[0m\n\u001b[0;32m      5\u001b[0m \u001b[1;33m\u001b[0m\u001b[0m\n\u001b[1;32m----> 6\u001b[1;33m \u001b[1;32massert\u001b[0m\u001b[1;33m(\u001b[0m\u001b[1;36m2\u001b[0m \u001b[1;33m==\u001b[0m \u001b[1;36m10\u001b[0m\u001b[1;33m)\u001b[0m\u001b[1;33m,\u001b[0m \u001b[1;34mf'this is not a valid statement'\u001b[0m\u001b[1;33m\u001b[0m\u001b[1;33m\u001b[0m\u001b[0m\n\u001b[0m",
      "\u001b[1;31mAssertionError\u001b[0m: this is not a valid statement"
     ]
    }
   ],
   "source": [
    "# Ans4:\n",
    "# There are few assertions that programmer always want to be true to avoid code failure. This type of requirement is\n",
    "#fulfilled by assert statement.This statement takes a boolean condition output of which is True which in turn helps Further\n",
    "# Program Execute. If output of assert statement is False, it raises an Assertion Error.\n",
    "\n",
    "assert(2 == 10), f'this is not a valid statement'"
   ]
  },
  {
   "cell_type": "code",
   "execution_count": null,
   "id": "cfb675e0",
   "metadata": {},
   "outputs": [],
   "source": [
    "Q5:\n",
    "What is the purpose of the with/as argument, and what other statement is it like?"
   ]
  },
  {
   "cell_type": "code",
   "execution_count": null,
   "id": "8eb255db",
   "metadata": {},
   "outputs": [],
   "source": [
    "Ans5:\n",
    "with/as statement simplifies use of file handling in python. When we use a with statement for file reading, there is no\n",
    "need for programmer to explicitly take care of activities like resource deallocation and file closing by using file.close()\n",
    "method.\n",
    "With statement itself ensures proper acquisition and release of resources. This avoids triggering of exceptions if\n",
    "the file closing is unknowingly forgotten in the code execution.\n",
    "\n",
    "with open('sample_file.txt','w') as file: file.write('Hello World')"
   ]
  }
 ],
 "metadata": {
  "kernelspec": {
   "display_name": "Python 3 (ipykernel)",
   "language": "python",
   "name": "python3"
  },
  "language_info": {
   "codemirror_mode": {
    "name": "ipython",
    "version": 3
   },
   "file_extension": ".py",
   "mimetype": "text/x-python",
   "name": "python",
   "nbconvert_exporter": "python",
   "pygments_lexer": "ipython3",
   "version": "3.9.13"
  }
 },
 "nbformat": 4,
 "nbformat_minor": 5
}
